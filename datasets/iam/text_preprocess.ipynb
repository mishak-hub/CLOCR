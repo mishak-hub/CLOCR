{
 "cells": [
  {
   "cell_type": "code",
   "execution_count": 3,
   "id": "d074f8de",
   "metadata": {},
   "outputs": [
    {
     "name": "stdout",
     "output_type": "stream",
     "text": [
      "CSV file saved to output_text.csv\n"
     ]
    }
   ],
   "source": [
    "import os\n",
    "import xml.etree.ElementTree as ET\n",
    "import pandas as pd\n",
    "\n",
    "# Define the directory containing XML files\n",
    "folder_path = 'C:\\\\Users\\\\diego\\\\IAM\\\\xml'  # Replace with your folder path\n",
    "\n",
    "# List to store file names and concatenated text\n",
    "data = []\n",
    "\n",
    "# Loop through all XML files in the folder\n",
    "for filename in os.listdir(folder_path):\n",
    "    if filename.endswith(\".xml\"):\n",
    "        file_path = os.path.join(folder_path, filename)\n",
    "        \n",
    "        # Parse the XML file\n",
    "        tree = ET.parse(file_path)\n",
    "        root = tree.getroot()\n",
    "        \n",
    "        # Find all machine-print-line elements and concatenate their text\n",
    "        machine_print_text = \" \".join([line.get('text') for line in root.findall('.//machine-print-line')])\n",
    "        \n",
    "        # Append the file name and concatenated text to the data list\n",
    "        data.append([filename, machine_print_text])\n",
    "\n",
    "# Create a DataFrame\n",
    "df = pd.DataFrame(data, columns=['file_name', 'text'])\n",
    "\n",
    "# Save the DataFrame to CSV\n",
    "output_csv_path = 'output_text.csv'  # Replace with your desired output path\n",
    "df.to_csv(output_csv_path, index=False)\n",
    "\n",
    "print(f\"CSV file saved to {output_csv_path}\")\n"
   ]
  },
  {
   "cell_type": "code",
   "execution_count": null,
   "id": "5af829ae",
   "metadata": {},
   "outputs": [],
   "source": []
  }
 ],
 "metadata": {
  "kernelspec": {
   "display_name": "Python 3",
   "language": "python",
   "name": "python3"
  },
  "language_info": {
   "codemirror_mode": {
    "name": "ipython",
    "version": 3
   },
   "file_extension": ".py",
   "mimetype": "text/x-python",
   "name": "python",
   "nbconvert_exporter": "python",
   "pygments_lexer": "ipython3",
   "version": "3.6.13"
  }
 },
 "nbformat": 4,
 "nbformat_minor": 5
}
